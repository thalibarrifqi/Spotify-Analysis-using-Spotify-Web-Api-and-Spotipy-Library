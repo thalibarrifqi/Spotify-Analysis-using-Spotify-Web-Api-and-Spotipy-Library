{
 "cells": [
  {
   "cell_type": "markdown",
   "id": "0746c486",
   "metadata": {},
   "source": [
    "# **Spotify Playlist Analysis**"
   ]
  },
  {
   "cell_type": "markdown",
   "id": "8bc551c4",
   "metadata": {},
   "source": [
    "# **90s Rock Anthems Playlist**"
   ]
  },
  {
   "cell_type": "markdown",
   "id": "cc88fbce",
   "metadata": {},
   "source": [
    "**This is an example project to retrieve data from spotify using Spotify Api, Python, and Spotipy library**"
   ]
  },
  {
   "cell_type": "code",
   "execution_count": 17,
   "id": "1d7afaa3",
   "metadata": {},
   "outputs": [],
   "source": [
    "import pandas as pd\n",
    "import seaborn as sns\n",
    "import matplotlib.pyplot as plt"
   ]
  },
  {
   "cell_type": "code",
   "execution_count": 2,
   "id": "dbcd46e6",
   "metadata": {},
   "outputs": [],
   "source": [
    "import spotipy\n",
    "from spotipy.oauth2 import SpotifyClientCredentials"
   ]
  },
  {
   "cell_type": "markdown",
   "id": "c27e6433",
   "metadata": {},
   "source": [
    "**Connect to the Spotify API**"
   ]
  },
  {
   "cell_type": "code",
   "execution_count": 3,
   "id": "3c13f7d7",
   "metadata": {},
   "outputs": [],
   "source": [
    "client_id = '1ddd57098bc5457aad92a39c29a1700b'\n",
    "client_secret = 'ffff8ed1d8b7467dbc8071be5381620b'"
   ]
  },
  {
   "cell_type": "code",
   "execution_count": 4,
   "id": "237c9190",
   "metadata": {},
   "outputs": [],
   "source": [
    "client_credentials_manager = SpotifyClientCredentials(client_id, client_secret)"
   ]
  },
  {
   "cell_type": "code",
   "execution_count": 5,
   "id": "3e89e3c4",
   "metadata": {},
   "outputs": [],
   "source": [
    "sp = spotipy.Spotify(client_credentials_manager=client_credentials_manager)"
   ]
  },
  {
   "cell_type": "markdown",
   "id": "ff85ad3b",
   "metadata": {},
   "source": [
    "**Get Track IDs**"
   ]
  },
  {
   "cell_type": "code",
   "execution_count": 6,
   "id": "df7eb1b6",
   "metadata": {},
   "outputs": [],
   "source": [
    "def show_tracks(results, uriArray):\n",
    "    for i, item in enumerate(results['items']):\n",
    "        track = item['track']\n",
    "        uriArray.append(track['id'])"
   ]
  },
  {
   "cell_type": "code",
   "execution_count": 7,
   "id": "55cc3af0",
   "metadata": {},
   "outputs": [],
   "source": [
    "def track_id(username, playlist_id):\n",
    "    trackID = []\n",
    "    results = sp.user_playlist(username, playlist_id)\n",
    "    tracks = results['tracks']\n",
    "    show_tracks(tracks, trackID)\n",
    "    while tracks['next']:\n",
    "        tracks = sp.next(tracks)\n",
    "        show_tracks(tracks, trackID)\n",
    "    return trackID"
   ]
  },
  {
   "cell_type": "code",
   "execution_count": 8,
   "id": "59524b84",
   "metadata": {},
   "outputs": [],
   "source": [
    "ids = track_id('Spotify', '37i9dQZF1DX1rVvRgjX59F')"
   ]
  },
  {
   "cell_type": "code",
   "execution_count": 9,
   "id": "f7ef07b7",
   "metadata": {
    "scrolled": true
   },
   "outputs": [
    {
     "data": {
      "text/plain": [
       "151"
      ]
     },
     "execution_count": 9,
     "metadata": {},
     "output_type": "execute_result"
    }
   ],
   "source": [
    "len(ids)"
   ]
  },
  {
   "cell_type": "code",
   "execution_count": 10,
   "id": "804a5348",
   "metadata": {},
   "outputs": [
    {
     "data": {
      "text/plain": [
       "'2IZZqH4K02UIYg5EohpNHF'"
      ]
     },
     "execution_count": 10,
     "metadata": {},
     "output_type": "execute_result"
    }
   ],
   "source": [
    "ids[1]"
   ]
  },
  {
   "cell_type": "markdown",
   "id": "4ee655fd",
   "metadata": {},
   "source": [
    "**Get Track Features data**"
   ]
  },
  {
   "cell_type": "code",
   "execution_count": 14,
   "id": "45cf207b",
   "metadata": {},
   "outputs": [
    {
     "data": {
      "text/plain": [
       "{'album': {'album_type': 'album',\n",
       "  'artists': [{'external_urls': {'spotify': 'https://open.spotify.com/artist/7t0rwkOPGlDPEhaOcVtOt9'},\n",
       "    'href': 'https://api.spotify.com/v1/artists/7t0rwkOPGlDPEhaOcVtOt9',\n",
       "    'id': '7t0rwkOPGlDPEhaOcVtOt9',\n",
       "    'name': 'The Cranberries',\n",
       "    'type': 'artist',\n",
       "    'uri': 'spotify:artist:7t0rwkOPGlDPEhaOcVtOt9'}],\n",
       "  'available_markets': [],\n",
       "  'external_urls': {'spotify': 'https://open.spotify.com/album/5GugLrmYMl5VRoe2zNgLGp'},\n",
       "  'href': 'https://api.spotify.com/v1/albums/5GugLrmYMl5VRoe2zNgLGp',\n",
       "  'id': '5GugLrmYMl5VRoe2zNgLGp',\n",
       "  'images': [{'height': 640,\n",
       "    'url': 'https://i.scdn.co/image/ab67616d0000b273e2213d84fabb15100c425198',\n",
       "    'width': 640},\n",
       "   {'height': 300,\n",
       "    'url': 'https://i.scdn.co/image/ab67616d00001e02e2213d84fabb15100c425198',\n",
       "    'width': 300},\n",
       "   {'height': 64,\n",
       "    'url': 'https://i.scdn.co/image/ab67616d00004851e2213d84fabb15100c425198',\n",
       "    'width': 64}],\n",
       "  'name': 'No Need To Argue',\n",
       "  'release_date': '1994-10-03',\n",
       "  'release_date_precision': 'day',\n",
       "  'total_tracks': 13,\n",
       "  'type': 'album',\n",
       "  'uri': 'spotify:album:5GugLrmYMl5VRoe2zNgLGp'},\n",
       " 'artists': [{'external_urls': {'spotify': 'https://open.spotify.com/artist/7t0rwkOPGlDPEhaOcVtOt9'},\n",
       "   'href': 'https://api.spotify.com/v1/artists/7t0rwkOPGlDPEhaOcVtOt9',\n",
       "   'id': '7t0rwkOPGlDPEhaOcVtOt9',\n",
       "   'name': 'The Cranberries',\n",
       "   'type': 'artist',\n",
       "   'uri': 'spotify:artist:7t0rwkOPGlDPEhaOcVtOt9'}],\n",
       " 'available_markets': [],\n",
       " 'disc_number': 1,\n",
       " 'duration_ms': 306426,\n",
       " 'explicit': False,\n",
       " 'external_ids': {'isrc': 'USIR29400443'},\n",
       " 'external_urls': {'spotify': 'https://open.spotify.com/track/2IZZqH4K02UIYg5EohpNHF'},\n",
       " 'href': 'https://api.spotify.com/v1/tracks/2IZZqH4K02UIYg5EohpNHF',\n",
       " 'id': '2IZZqH4K02UIYg5EohpNHF',\n",
       " 'is_local': False,\n",
       " 'name': 'Zombie',\n",
       " 'popularity': 24,\n",
       " 'preview_url': None,\n",
       " 'track_number': 4,\n",
       " 'type': 'track',\n",
       " 'uri': 'spotify:track:2IZZqH4K02UIYg5EohpNHF'}"
      ]
     },
     "execution_count": 14,
     "metadata": {},
     "output_type": "execute_result"
    }
   ],
   "source": [
    "song_info = sp.track(ids[1])\n",
    "song_info"
   ]
  },
  {
   "cell_type": "code",
   "execution_count": 15,
   "id": "385819ee",
   "metadata": {},
   "outputs": [
    {
     "data": {
      "text/plain": [
       "[{'danceability': 0.307,\n",
       "  'energy': 0.635,\n",
       "  'key': 7,\n",
       "  'loudness': -8.957,\n",
       "  'mode': 1,\n",
       "  'speechiness': 0.0339,\n",
       "  'acousticness': 0.0154,\n",
       "  'instrumentalness': 0.00483,\n",
       "  'liveness': 0.366,\n",
       "  'valence': 0.304,\n",
       "  'tempo': 166.973,\n",
       "  'type': 'audio_features',\n",
       "  'id': '2IZZqH4K02UIYg5EohpNHF',\n",
       "  'uri': 'spotify:track:2IZZqH4K02UIYg5EohpNHF',\n",
       "  'track_href': 'https://api.spotify.com/v1/tracks/2IZZqH4K02UIYg5EohpNHF',\n",
       "  'analysis_url': 'https://api.spotify.com/v1/audio-analysis/2IZZqH4K02UIYg5EohpNHF',\n",
       "  'duration_ms': 306427,\n",
       "  'time_signature': 4}]"
      ]
     },
     "execution_count": 15,
     "metadata": {},
     "output_type": "execute_result"
    }
   ],
   "source": [
    "song_features = sp.audio_features(ids[1])\n",
    "song_features"
   ]
  },
  {
   "cell_type": "code",
   "execution_count": 19,
   "id": "059850a2",
   "metadata": {},
   "outputs": [],
   "source": [
    "def getTrackFeatures(id):\n",
    "    meta = sp.track(id)\n",
    "    features = sp.audio_features(id)\n",
    "\n",
    "    name = meta['name']\n",
    "    album = meta['album']['name']\n",
    "    artist = meta['album']['artists'][0]['name']\n",
    "    release_date = meta['album']['release_date']\n",
    "    length = meta['duration_ms']\n",
    "    popularity = meta['popularity']\n",
    "\n",
    "    acousticness = features[0]['acousticness']\n",
    "    danceability = features[0]['danceability']\n",
    "    energy = features[0]['energy']\n",
    "    instrumentalness = features[0]['instrumentalness']\n",
    "    liveness = features[0]['liveness']\n",
    "    loudness = features[0]['loudness']\n",
    "    speechiness = features[0]['speechiness']\n",
    "    tempo = features[0]['tempo']\n",
    "    time_signature = features[0]['time_signature']\n",
    "\n",
    "    track = [name, album, artist, release_date, length, \n",
    "               popularity, danceability, acousticness, danceability, \n",
    "               energy, instrumentalness, liveness, loudness, speechiness, tempo, time_signature]\n",
    "    return track"
   ]
  },
  {
   "cell_type": "code",
   "execution_count": 20,
   "id": "425bee38",
   "metadata": {},
   "outputs": [],
   "source": [
    "# loop over track ids \n",
    "tracks = []\n",
    "for i in range(len(ids)):\n",
    "    track = getTrackFeatures(ids[i])\n",
    "    tracks.append(track)\n",
    "\n",
    "# create dataset\n",
    "df = pd.DataFrame(tracks, columns = [\n",
    "    'name', 'album', 'artist', 'release_date', \n",
    "    'length', 'popularity', 'danceability', \n",
    "    'acousticness', 'danceability', 'energy', \n",
    "    'instrumentalness', 'liveness', 'loudness', \n",
    "    'speechiness', 'tempo', 'time_signature'])\n",
    "df.to_csv(\"90sRock_playlist.csv\", sep = ',')"
   ]
  },
  {
   "cell_type": "markdown",
   "id": "2188dc40",
   "metadata": {},
   "source": [
    "**Save to csv**"
   ]
  },
  {
   "cell_type": "code",
   "execution_count": 21,
   "id": "f1f13633",
   "metadata": {},
   "outputs": [
    {
     "data": {
      "text/html": [
       "<div>\n",
       "<style scoped>\n",
       "    .dataframe tbody tr th:only-of-type {\n",
       "        vertical-align: middle;\n",
       "    }\n",
       "\n",
       "    .dataframe tbody tr th {\n",
       "        vertical-align: top;\n",
       "    }\n",
       "\n",
       "    .dataframe thead th {\n",
       "        text-align: right;\n",
       "    }\n",
       "</style>\n",
       "<table border=\"1\" class=\"dataframe\">\n",
       "  <thead>\n",
       "    <tr style=\"text-align: right;\">\n",
       "      <th></th>\n",
       "      <th>name</th>\n",
       "      <th>album</th>\n",
       "      <th>artist</th>\n",
       "      <th>release_date</th>\n",
       "      <th>length</th>\n",
       "      <th>popularity</th>\n",
       "      <th>danceability</th>\n",
       "      <th>acousticness</th>\n",
       "      <th>danceability</th>\n",
       "      <th>energy</th>\n",
       "      <th>instrumentalness</th>\n",
       "      <th>liveness</th>\n",
       "      <th>loudness</th>\n",
       "      <th>speechiness</th>\n",
       "      <th>tempo</th>\n",
       "      <th>time_signature</th>\n",
       "    </tr>\n",
       "  </thead>\n",
       "  <tbody>\n",
       "    <tr>\n",
       "      <th>0</th>\n",
       "      <td>Smells Like Teen Spirit</td>\n",
       "      <td>Nevermind (Remastered)</td>\n",
       "      <td>Nirvana</td>\n",
       "      <td>1991-09-26</td>\n",
       "      <td>301920</td>\n",
       "      <td>78</td>\n",
       "      <td>0.502</td>\n",
       "      <td>0.000025</td>\n",
       "      <td>0.502</td>\n",
       "      <td>0.912</td>\n",
       "      <td>0.000173</td>\n",
       "      <td>0.1060</td>\n",
       "      <td>-4.556</td>\n",
       "      <td>0.0564</td>\n",
       "      <td>116.761</td>\n",
       "      <td>4</td>\n",
       "    </tr>\n",
       "    <tr>\n",
       "      <th>1</th>\n",
       "      <td>Zombie</td>\n",
       "      <td>No Need To Argue</td>\n",
       "      <td>The Cranberries</td>\n",
       "      <td>1994-10-03</td>\n",
       "      <td>306426</td>\n",
       "      <td>24</td>\n",
       "      <td>0.307</td>\n",
       "      <td>0.015400</td>\n",
       "      <td>0.307</td>\n",
       "      <td>0.635</td>\n",
       "      <td>0.004830</td>\n",
       "      <td>0.3660</td>\n",
       "      <td>-8.957</td>\n",
       "      <td>0.0339</td>\n",
       "      <td>166.973</td>\n",
       "      <td>4</td>\n",
       "    </tr>\n",
       "    <tr>\n",
       "      <th>2</th>\n",
       "      <td>Enter Sandman</td>\n",
       "      <td>Metallica</td>\n",
       "      <td>Metallica</td>\n",
       "      <td>1991-08-12</td>\n",
       "      <td>331573</td>\n",
       "      <td>0</td>\n",
       "      <td>0.579</td>\n",
       "      <td>0.002060</td>\n",
       "      <td>0.579</td>\n",
       "      <td>0.824</td>\n",
       "      <td>0.009030</td>\n",
       "      <td>0.0590</td>\n",
       "      <td>-8.710</td>\n",
       "      <td>0.0300</td>\n",
       "      <td>123.331</td>\n",
       "      <td>4</td>\n",
       "    </tr>\n",
       "    <tr>\n",
       "      <th>3</th>\n",
       "      <td>Under the Bridge</td>\n",
       "      <td>Blood Sugar Sex Magik (Deluxe Edition)</td>\n",
       "      <td>Red Hot Chili Peppers</td>\n",
       "      <td>1991-09-24</td>\n",
       "      <td>264306</td>\n",
       "      <td>81</td>\n",
       "      <td>0.559</td>\n",
       "      <td>0.057600</td>\n",
       "      <td>0.559</td>\n",
       "      <td>0.345</td>\n",
       "      <td>0.000105</td>\n",
       "      <td>0.1410</td>\n",
       "      <td>-13.496</td>\n",
       "      <td>0.0459</td>\n",
       "      <td>84.581</td>\n",
       "      <td>4</td>\n",
       "    </tr>\n",
       "    <tr>\n",
       "      <th>4</th>\n",
       "      <td>Killing In The Name</td>\n",
       "      <td>Rage Against The Machine - XX (20th Anniversar...</td>\n",
       "      <td>Rage Against The Machine</td>\n",
       "      <td>1992</td>\n",
       "      <td>313573</td>\n",
       "      <td>78</td>\n",
       "      <td>0.466</td>\n",
       "      <td>0.026600</td>\n",
       "      <td>0.466</td>\n",
       "      <td>0.833</td>\n",
       "      <td>0.000000</td>\n",
       "      <td>0.0327</td>\n",
       "      <td>-4.215</td>\n",
       "      <td>0.3040</td>\n",
       "      <td>88.785</td>\n",
       "      <td>4</td>\n",
       "    </tr>\n",
       "  </tbody>\n",
       "</table>\n",
       "</div>"
      ],
      "text/plain": [
       "                      name                                              album  \\\n",
       "0  Smells Like Teen Spirit                             Nevermind (Remastered)   \n",
       "1                   Zombie                                   No Need To Argue   \n",
       "2            Enter Sandman                                          Metallica   \n",
       "3         Under the Bridge             Blood Sugar Sex Magik (Deluxe Edition)   \n",
       "4      Killing In The Name  Rage Against The Machine - XX (20th Anniversar...   \n",
       "\n",
       "                     artist release_date  length  popularity  danceability  \\\n",
       "0                   Nirvana   1991-09-26  301920          78         0.502   \n",
       "1           The Cranberries   1994-10-03  306426          24         0.307   \n",
       "2                 Metallica   1991-08-12  331573           0         0.579   \n",
       "3     Red Hot Chili Peppers   1991-09-24  264306          81         0.559   \n",
       "4  Rage Against The Machine         1992  313573          78         0.466   \n",
       "\n",
       "   acousticness  danceability  energy  instrumentalness  liveness  loudness  \\\n",
       "0      0.000025         0.502   0.912          0.000173    0.1060    -4.556   \n",
       "1      0.015400         0.307   0.635          0.004830    0.3660    -8.957   \n",
       "2      0.002060         0.579   0.824          0.009030    0.0590    -8.710   \n",
       "3      0.057600         0.559   0.345          0.000105    0.1410   -13.496   \n",
       "4      0.026600         0.466   0.833          0.000000    0.0327    -4.215   \n",
       "\n",
       "   speechiness    tempo  time_signature  \n",
       "0       0.0564  116.761               4  \n",
       "1       0.0339  166.973               4  \n",
       "2       0.0300  123.331               4  \n",
       "3       0.0459   84.581               4  \n",
       "4       0.3040   88.785               4  "
      ]
     },
     "execution_count": 21,
     "metadata": {},
     "output_type": "execute_result"
    }
   ],
   "source": [
    "df.head()"
   ]
  },
  {
   "cell_type": "code",
   "execution_count": null,
   "id": "99cd7847",
   "metadata": {},
   "outputs": [],
   "source": []
  }
 ],
 "metadata": {
  "kernelspec": {
   "display_name": "Python 3 (ipykernel)",
   "language": "python",
   "name": "python3"
  },
  "language_info": {
   "codemirror_mode": {
    "name": "ipython",
    "version": 3
   },
   "file_extension": ".py",
   "mimetype": "text/x-python",
   "name": "python",
   "nbconvert_exporter": "python",
   "pygments_lexer": "ipython3",
   "version": "3.9.7"
  }
 },
 "nbformat": 4,
 "nbformat_minor": 5
}
